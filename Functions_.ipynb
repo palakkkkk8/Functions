{
  "nbformat": 4,
  "nbformat_minor": 0,
  "metadata": {
    "colab": {
      "provenance": []
    },
    "kernelspec": {
      "name": "python3",
      "display_name": "Python 3"
    },
    "language_info": {
      "name": "python"
    }
  },
  "cells": [
    {
      "cell_type": "markdown",
      "source": [
        "# Functions\n"
      ],
      "metadata": {
        "id": "HT4_XohBhzRm"
      }
    },
    {
      "cell_type": "markdown",
      "source": [
        " 1. What is the difference between a function and a method in Python?\n",
        "   - A function is a block of code that performs a task and is defined using def. A method is a function that is associated with an object (usually a class).\n",
        "   \n",
        "   example -\n"
      ],
      "metadata": {
        "id": "MGYkKfWOiHli"
      }
    },
    {
      "cell_type": "code",
      "execution_count": 1,
      "metadata": {
        "colab": {
          "base_uri": "https://localhost:8080/",
          "height": 36
        },
        "id": "tIIWt7johj4r",
        "outputId": "f6cb2900-f6a1-46bd-80fd-c21cd948cf79"
      },
      "outputs": [
        {
          "output_type": "execute_result",
          "data": {
            "text/plain": [
              "'HELLO'"
            ],
            "application/vnd.google.colaboratory.intrinsic+json": {
              "type": "string"
            }
          },
          "metadata": {},
          "execution_count": 1
        }
      ],
      "source": [
        "def greet():       # Function\n",
        "    print(\"Hello\")\n",
        "\n",
        "\"hello\".upper()     # Method (called on a string object)\n"
      ]
    },
    {
      "cell_type": "markdown",
      "source": [
        " 2. Explain the concept of function arguments and parameters in Python.\n",
        "    - Parameters are variables listed in a function definition.\n",
        "Arguments are values passed to the function when it is called.\n",
        "\n",
        "Example:\n"
      ],
      "metadata": {
        "id": "k51ddsJaishZ"
      }
    },
    {
      "cell_type": "code",
      "source": [
        "def greet(name):  # 'name' is a parameter\n",
        "    print(\"Hello\", name)\n",
        "\n",
        "greet(\"Palak\")     # \"Palak\" is an argument\n"
      ],
      "metadata": {
        "colab": {
          "base_uri": "https://localhost:8080/"
        },
        "id": "GTk8FcqFi3tS",
        "outputId": "a29e3305-0b9e-466e-824e-ecf4c044ba65"
      },
      "execution_count": 2,
      "outputs": [
        {
          "output_type": "stream",
          "name": "stdout",
          "text": [
            "Hello Palak\n"
          ]
        }
      ]
    },
    {
      "cell_type": "markdown",
      "source": [
        " 3. What are the different ways to define and call a function in Python?\n",
        "    - Ways to define a function:\n",
        "\n",
        "Regular function using def\n",
        "\n",
        "Anonymous function using lambda\n",
        "\n",
        "   Ways to call a function:\n",
        "\n",
        "By its name with arguments\n",
        "  \n",
        "  example-\n",
        ""
      ],
      "metadata": {
        "id": "9JByhrWbi9mH"
      }
    },
    {
      "cell_type": "code",
      "source": [
        "def add(a, b):       # Regular function\n",
        "    return a + b\n",
        "\n",
        "sum_lambda = lambda x, y: x + y  # Lambda function\n",
        "\n",
        "print(add(2, 3))           # Call regular function\n",
        "print(sum_lambda(2, 3))    # Call lambda function\n"
      ],
      "metadata": {
        "colab": {
          "base_uri": "https://localhost:8080/"
        },
        "id": "WPa2LG3zjcM7",
        "outputId": "706b819d-dc85-4e92-ef44-f8de7735bffa"
      },
      "execution_count": 3,
      "outputs": [
        {
          "output_type": "stream",
          "name": "stdout",
          "text": [
            "5\n",
            "5\n"
          ]
        }
      ]
    },
    {
      "cell_type": "markdown",
      "source": [
        " 4. What is the purpose of the `return` statement in a Python function?\n",
        "    - The return statement sends a value back to the caller and ends the function.\n",
        "\n",
        "    example-\n",
        "    "
      ],
      "metadata": {
        "id": "ILk-ChvjjfsI"
      }
    },
    {
      "cell_type": "code",
      "source": [
        "def square(x):\n",
        "    return x * x\n",
        "\n",
        "result = square(4)  # result = 16\n"
      ],
      "metadata": {
        "id": "YiBbssWfjx4T"
      },
      "execution_count": 4,
      "outputs": []
    },
    {
      "cell_type": "markdown",
      "source": [
        " 5. What are iterators in Python and how do they differ from iterables?\n",
        "    - Iterable is an object that can be looped over (like list, tuple).\n",
        "\n",
        "     - Iterator is an object with __next__() to get items one by one.\n",
        "\n",
        "     example-\n",
        "\n"
      ],
      "metadata": {
        "id": "uSvbn6Frj1Nw"
      }
    },
    {
      "cell_type": "code",
      "source": [
        "nums = [1, 2, 3]        # Iterable\n",
        "it = iter(nums)         # Iterator from iterable\n",
        "print(next(it))         # Output: 1\n"
      ],
      "metadata": {
        "colab": {
          "base_uri": "https://localhost:8080/"
        },
        "id": "myt5cx9LkGAG",
        "outputId": "3f063a8b-2c64-4fc5-dc57-070306c963b9"
      },
      "execution_count": 5,
      "outputs": [
        {
          "output_type": "stream",
          "name": "stdout",
          "text": [
            "1\n"
          ]
        }
      ]
    },
    {
      "cell_type": "markdown",
      "source": [
        " 6. Explain the concept of generators in Python and how they are defined.\n",
        "    - Generators are special functions that yield values one at a time using yield, saving memory.\n",
        "\n",
        "    Example-"
      ],
      "metadata": {
        "id": "9sEznI9nkKA1"
      }
    },
    {
      "cell_type": "code",
      "source": [
        "def count_up_to(n):\n",
        "    for i in range(n):\n",
        "        yield i\n",
        "\n",
        "gen = count_up_to(3)\n",
        "print(next(gen))  # Output: 0\n"
      ],
      "metadata": {
        "colab": {
          "base_uri": "https://localhost:8080/"
        },
        "id": "UujzjjirkUuu",
        "outputId": "313836c5-ca2a-4df7-b168-0da3afffbd4f"
      },
      "execution_count": 6,
      "outputs": [
        {
          "output_type": "stream",
          "name": "stdout",
          "text": [
            "0\n"
          ]
        }
      ]
    },
    {
      "cell_type": "markdown",
      "source": [
        " 7. What are the advantages of using generators over regular functions?\n",
        "\n",
        "    -Generators use less memory and are faster for large data because they yield items one by one instead of storing everything at once.\n",
        "    \n",
        "    Example-\n"
      ],
      "metadata": {
        "id": "nZ1yudl7kZiX"
      }
    },
    {
      "cell_type": "code",
      "source": [
        "def gen_nums():\n",
        "    for i in range(1000000):\n",
        "        yield i  # Memory efficient\n"
      ],
      "metadata": {
        "id": "RqjQgIJ3khph"
      },
      "execution_count": 7,
      "outputs": []
    },
    {
      "cell_type": "markdown",
      "source": [
        " 8. What is a lambda function in Python and when is it typically used?\n",
        "    \n",
        "    -A lambda function is a small, anonymous function used for short, simple operations.\n",
        "\n",
        "   Syntax: lambda arguments: expression\n",
        "\n",
        "   Example -\n",
        "\n"
      ],
      "metadata": {
        "id": "qRZMhPhvkk_C"
      }
    },
    {
      "cell_type": "code",
      "source": [
        "square = lambda x: x * x\n",
        "print(square(5))  # Output: 25\n"
      ],
      "metadata": {
        "colab": {
          "base_uri": "https://localhost:8080/"
        },
        "id": "EO-FEso7kvIO",
        "outputId": "500b22c4-d116-4ead-e492-e438e065112e"
      },
      "execution_count": 8,
      "outputs": [
        {
          "output_type": "stream",
          "name": "stdout",
          "text": [
            "25\n"
          ]
        }
      ]
    },
    {
      "cell_type": "markdown",
      "source": [
        " 9. Explain the purpose and usage of the `map()` function in Python.\n",
        "    \n",
        "    -The map() function applies a function to each item in an iterable.\n",
        "\n",
        "     Syntax: map(function, iterable)\n",
        "     \n",
        "     Example-\n",
        "    "
      ],
      "metadata": {
        "id": "OkaiuWOjkyuW"
      }
    },
    {
      "cell_type": "code",
      "source": [
        "nums = [1, 2, 3]\n",
        "squared = list(map(lambda x: x**2, nums))\n",
        "print(squared)  # Output: [1, 4, 9]\n"
      ],
      "metadata": {
        "colab": {
          "base_uri": "https://localhost:8080/"
        },
        "id": "MdXBDhMSlAx8",
        "outputId": "e00c0ea6-fb62-4470-f0bc-960041f949b8"
      },
      "execution_count": 9,
      "outputs": [
        {
          "output_type": "stream",
          "name": "stdout",
          "text": [
            "[1, 4, 9]\n"
          ]
        }
      ]
    },
    {
      "cell_type": "markdown",
      "source": [
        " 10. What is the difference between `map()`, `reduce()`, and `filter()` functions in Python?\n",
        "\n",
        " - map(): Applies a function to all items, returns all results.\n",
        "\n",
        " - filter(): Returns items where the function is True.\n",
        "\n",
        " - reduce(): Reduces items to a single value by applying a function\n",
        "   cumulatively.\n",
        "  \n",
        "  Example -\n",
        "\n"
      ],
      "metadata": {
        "id": "jLWh2_DGlDqo"
      }
    },
    {
      "cell_type": "code",
      "source": [
        "from functools import reduce\n",
        "\n",
        "nums = [1, 2, 3, 4]\n",
        "\n",
        "print(list(map(lambda x: x*2, nums)))      # [2, 4, 6, 8]\n",
        "print(list(filter(lambda x: x%2==0, nums))) # [2, 4]\n",
        "print(reduce(lambda a, b: a + b, nums))     # 10\n"
      ],
      "metadata": {
        "colab": {
          "base_uri": "https://localhost:8080/"
        },
        "id": "Z9nkDAD-lVCD",
        "outputId": "e418d194-f573-4e1c-ecf4-f71415990ce5"
      },
      "execution_count": 10,
      "outputs": [
        {
          "output_type": "stream",
          "name": "stdout",
          "text": [
            "[2, 4, 6, 8]\n",
            "[2, 4]\n",
            "10\n"
          ]
        }
      ]
    },
    {
      "cell_type": "markdown",
      "source": [
        "# Practical Questions"
      ],
      "metadata": {
        "id": "PeNg0ubDnAtR"
      }
    },
    {
      "cell_type": "markdown",
      "source": [
        " 1. Write a Python function that takes a list of numbers as input and returns the sum of all even numbers in the list ."
      ],
      "metadata": {
        "id": "3p2U9pSmnJ4E"
      }
    },
    {
      "cell_type": "code",
      "source": [
        "def sum_even_numbers(numbers):\n",
        "    return sum(num for num in numbers if num % 2 == 0)\n"
      ],
      "metadata": {
        "id": "j_6SP_Tvnryv"
      },
      "execution_count": 11,
      "outputs": []
    },
    {
      "cell_type": "markdown",
      "source": [
        "Example\n"
      ],
      "metadata": {
        "id": "dZvawnvBnwdk"
      }
    },
    {
      "cell_type": "code",
      "source": [
        "print(sum_even_numbers([1, 2, 3, 4, 5, 6]))  # Output: 12\n"
      ],
      "metadata": {
        "colab": {
          "base_uri": "https://localhost:8080/"
        },
        "id": "zTpxgF1tntc8",
        "outputId": "e5759771-1577-480a-cf03-4c706922360f"
      },
      "execution_count": 12,
      "outputs": [
        {
          "output_type": "stream",
          "name": "stdout",
          "text": [
            "12\n"
          ]
        }
      ]
    },
    {
      "cell_type": "markdown",
      "source": [
        " 2. Create a Python function that accepts a string and returns the reverse of that string.\n"
      ],
      "metadata": {
        "id": "8QkJBGzOny6s"
      }
    },
    {
      "cell_type": "code",
      "source": [
        "def reverse_string(s):\n",
        "    return s[::-1]\n",
        "\n"
      ],
      "metadata": {
        "id": "4ubmhj96n55N"
      },
      "execution_count": 13,
      "outputs": []
    },
    {
      "cell_type": "markdown",
      "source": [
        "example-"
      ],
      "metadata": {
        "id": "yanjZVdrn887"
      }
    },
    {
      "cell_type": "code",
      "source": [
        "print(reverse_string(\"hello\"))  # Output: \"olleh\"\n"
      ],
      "metadata": {
        "colab": {
          "base_uri": "https://localhost:8080/"
        },
        "id": "EzDLYzHtn_yL",
        "outputId": "d157ed98-ce3d-4077-9bec-ecc2c9955a1e"
      },
      "execution_count": 14,
      "outputs": [
        {
          "output_type": "stream",
          "name": "stdout",
          "text": [
            "olleh\n"
          ]
        }
      ]
    },
    {
      "cell_type": "markdown",
      "source": [
        " 3. Implement a Python function that takes a list of integers and returns a new list containing the squares of each numbers .\n"
      ],
      "metadata": {
        "id": "ObiI7MRfoDpc"
      }
    },
    {
      "cell_type": "code",
      "source": [
        "def square_list(numbers):\n",
        "    return [num ** 2 for num in numbers]\n"
      ],
      "metadata": {
        "id": "AS4uQBuJoNqQ"
      },
      "execution_count": 15,
      "outputs": []
    },
    {
      "cell_type": "markdown",
      "source": [
        " 4. Write a Python function that checks if a given number is prime or not from 1 to 200.\n"
      ],
      "metadata": {
        "id": "6h6a-ghQoSHY"
      }
    },
    {
      "cell_type": "code",
      "source": [
        "def is_prime(n):\n",
        "    if n <= 1:\n",
        "        return False\n",
        "    for i in range(2, int(n**0.5) + 1):\n",
        "        if n % i == 0:\n",
        "            return False\n",
        "    return True\n"
      ],
      "metadata": {
        "id": "KlkcqoAuoS3C"
      },
      "execution_count": 16,
      "outputs": []
    },
    {
      "cell_type": "markdown",
      "source": [
        " 5. Create an iterator class in Python that generates the Fibonacci sequence up to a specified number of terms  \n"
      ],
      "metadata": {
        "id": "CRU1XO0joXRc"
      }
    },
    {
      "cell_type": "code",
      "source": [
        "class FibonacciIterator:\n",
        "    def __init__(self, max_count):\n",
        "        self.max_count = max_count\n",
        "        self.count = 0\n",
        "        self.a, self.b = 0, 1\n",
        "\n",
        "    def __iter__(self):\n",
        "        return self\n",
        "\n",
        "    def __next__(self):\n",
        "        if self.count >= self.max_count:\n",
        "            raise StopIteration\n",
        "        if self.count == 0:\n",
        "            self.count += 1\n",
        "            return 0\n",
        "        elif self.count == 1:\n",
        "            self.count += 1\n",
        "            return 1\n",
        "        else:\n",
        "            self.a, self.b = self.b, self.a + self.b\n",
        "            self.count += 1\n",
        "            return self.a\n"
      ],
      "metadata": {
        "id": "5xhCucrAob9_"
      },
      "execution_count": 17,
      "outputs": []
    },
    {
      "cell_type": "markdown",
      "source": [
        " 6. Write a generator function in Python that yields the powers of 2 up to a given exponent.\n"
      ],
      "metadata": {
        "id": "IzuLVZBxojea"
      }
    },
    {
      "cell_type": "code",
      "source": [
        "def powers_of_two(n):\n",
        "    for i in range(n + 1):\n",
        "        yield 2 ** i\n"
      ],
      "metadata": {
        "id": "rHkMzHcNojLN"
      },
      "execution_count": 18,
      "outputs": []
    },
    {
      "cell_type": "markdown",
      "source": [
        "example"
      ],
      "metadata": {
        "id": "V95gUu3DoqLY"
      }
    },
    {
      "cell_type": "code",
      "source": [
        "for power in powers_of_two(5):\n",
        "    print(power)\n",
        "# Output: 1 2 4 8 16 32\n"
      ],
      "metadata": {
        "colab": {
          "base_uri": "https://localhost:8080/"
        },
        "id": "APZTEDwMorYM",
        "outputId": "20d3ad2b-7335-429a-a375-e2f78d79608e"
      },
      "execution_count": 19,
      "outputs": [
        {
          "output_type": "stream",
          "name": "stdout",
          "text": [
            "1\n",
            "2\n",
            "4\n",
            "8\n",
            "16\n",
            "32\n"
          ]
        }
      ]
    },
    {
      "cell_type": "markdown",
      "source": [
        " 7. Implement a generator function that reads a file line by line and yields each line as a string.\n"
      ],
      "metadata": {
        "id": "uXxgflGAouGG"
      }
    },
    {
      "cell_type": "code",
      "source": [
        "def read_file_lines(filename):\n",
        "    with open(filename, 'r') as file:\n",
        "        for line in file:\n",
        "            yield line.rstrip('\\n')\n"
      ],
      "metadata": {
        "id": "4cMbMQNSo35w"
      },
      "execution_count": 20,
      "outputs": []
    },
    {
      "cell_type": "markdown",
      "source": [
        " 8. Use a lambda function in Python to sort a list of tuples based on the second element of each tuple.\n"
      ],
      "metadata": {
        "id": "KPj_oyHmpECi"
      }
    },
    {
      "cell_type": "code",
      "source": [
        "tuples = [(1, 3), (4, 1), (2, 2)]\n",
        "sorted_tuples = sorted(tuples, key=lambda x: x[1])\n",
        "print(sorted_tuples)  # Output: [(4, 1), (2, 2), (1, 3)]\n"
      ],
      "metadata": {
        "colab": {
          "base_uri": "https://localhost:8080/"
        },
        "id": "hBKNlvJppHuM",
        "outputId": "ebb1f6b3-b50e-4379-ab50-e6f02d020645"
      },
      "execution_count": 22,
      "outputs": [
        {
          "output_type": "stream",
          "name": "stdout",
          "text": [
            "[(4, 1), (2, 2), (1, 3)]\n"
          ]
        }
      ]
    },
    {
      "cell_type": "markdown",
      "source": [
        " 9. Write a Python program that uses `map()` to convert a list of temperatures from Celsius to Fahrenheit.\n"
      ],
      "metadata": {
        "id": "XqqhovnPpNLw"
      }
    },
    {
      "cell_type": "code",
      "source": [
        "def c_to_f(c):\n",
        "    return (c * 9/5) + 32\n",
        "\n",
        "celsius = [0, 20, 30, 100]\n",
        "fahrenheit = list(map(c_to_f, celsius))\n",
        "print(fahrenheit)  # Output: [32.0, 68.0, 86.0, 212.0]\n"
      ],
      "metadata": {
        "colab": {
          "base_uri": "https://localhost:8080/"
        },
        "id": "_ZI7ZFfWpS1P",
        "outputId": "c4758476-ad91-4624-bac7-c9f44282473c"
      },
      "execution_count": 23,
      "outputs": [
        {
          "output_type": "stream",
          "name": "stdout",
          "text": [
            "[32.0, 68.0, 86.0, 212.0]\n"
          ]
        }
      ]
    },
    {
      "cell_type": "markdown",
      "source": [
        " 10. Create a Python program that uses `filter()` to remove all the vowels from a given string.\n"
      ],
      "metadata": {
        "id": "uUFfaVrrpWCT"
      }
    },
    {
      "cell_type": "code",
      "source": [
        "def is_not_vowel(char):\n",
        "    return char.lower() not in 'aeiou'\n",
        "\n",
        "text = \"Hello, World!\"\n",
        "filtered_text = ''.join(filter(is_not_vowel, text))\n",
        "print(filtered_text)  # Output: Hll, Wrld!\n"
      ],
      "metadata": {
        "colab": {
          "base_uri": "https://localhost:8080/"
        },
        "id": "OjpmORM1pZXT",
        "outputId": "1de9a8e8-7f2d-4c70-8d18-4a3829be7678"
      },
      "execution_count": 24,
      "outputs": [
        {
          "output_type": "stream",
          "name": "stdout",
          "text": [
            "Hll, Wrld!\n"
          ]
        }
      ]
    }
  ]
}